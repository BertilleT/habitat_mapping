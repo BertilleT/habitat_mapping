{
 "cells": [
  {
   "cell_type": "markdown",
   "metadata": {},
   "source": [
    "## Statistics made on 20% of the data\n",
    "The data we talk about are filtered from unlabeled patches. \n",
    "\n",
    "20% of the data represents:\n",
    "- 86863 patches of size 64*64, \n",
    "- 22859 patches of size 128*128, \n",
    "- 6296 patches of size 256*256.  \n",
    "\n",
    "The threshold indicates a percentage of annotated pixels in the mask below which we do not select the pair(img patch, msk patch). If it is set to 1, we keep all the pairs with masks annotated at 100%. "
   ]
  },
  {
   "cell_type": "markdown",
   "metadata": {},
   "source": [
    "### Patch of size 64\n",
    "\n",
    "| threshold | nb kept patches | % kept patches | \n",
    "|-----------|-----------------|----------------|\n",
    "|    1      |    68 000       |     80         |\n",
    "\n",
    "l1:\n",
    "| threshold | nb patches with 1 class   | % patches with 1 class | nb 2 classes | % 2 classes | nb 3 classes | % 3 classes |\n",
    "|-----------|---------------------------|------------------------|--------------|-------------|--------------|-------------|\n",
    "| 1         |          60000            |           88           |    8000      |      12     |   465        |      1      |\n",
    "\n",
    "\n",
    "l2:\n",
    "| threshold | nb patches with 1 class   | % patches with 1 class | nb 2 classes | % 2 classes | nb 3 classes | % 3 classes |\n",
    "|-----------|---------------------------|-------------------------|--------------|-------------|--------------|-------------|\n",
    "| 1         | 56 000                    | 82                      | 11 000       | 17          |  747         | 1           |"
   ]
  },
  {
   "cell_type": "markdown",
   "metadata": {},
   "source": [
    "### Patch of size 128\n",
    "\n",
    "| threshold | nb kept patches | % kept patches | \n",
    "|-----------|-----------------|----------------|\n",
    "|    1      |    15 000       |     64         |\n",
    "\n",
    "l1:\n",
    "| threshold | nb patches with 1 class   | % patches with 1 class | nb 2 classes | % 2 classes | nb 3 classes | % 3 classes |\n",
    "|-----------|---------------------------|------------------------|--------------|-------------|--------------|-------------|\n",
    "| 1         |          12 000           |           79           |     2700     |      19     |      307     |      2      |\n",
    "\n",
    "\n",
    "l2:\n",
    "| threshold | nb patches with 1 class   | % patches with 1 class | nb 2 classes | % 2 classes | nb 3 classes | % 3 classes |\n",
    "|-----------|---------------------------|-------------------------|--------------|-------------|--------------|-------------|\n",
    "| 1         | 56 000                    | 82                      | 11 000       | 17          |  747         | 1           |"
   ]
  },
  {
   "cell_type": "markdown",
   "metadata": {},
   "source": [
    "### Patch of size 256\n",
    "\n",
    "| threshold | nb kept patches | % kept patches | \n",
    "|-----------|-----------------|----------------|\n",
    "|    1      |    2800         |     44         |\n",
    "| 0.95      |      3270       |      52        |\n",
    "\n",
    "l1:\n",
    "| threshold | nb patches with 1 class   | % patches with 1 class | nb 2 classes | % 2 classes | nb 3 classes | % 3 classes |\n",
    "|-----------|---------------------------|------------------------|--------------|-------------|--------------|-------------|\n",
    "| 1         |         1900              |         66             |     780      |     28      |    136       |     5       |\n",
    "| 0.95      |           1900            |         57             |      1074    |      33     |      271     |    8        |\n",
    "\n",
    "\n",
    "\n",
    "l2:\n",
    "| threshold | nb patches with 1 class   | % patches with 1 class | nb 2 classes | % 2 classes | nb 3 classes | % 3 classes |\n",
    "|-----------|---------------------------|-------------------------|--------------|-------------|--------------|-------------|\n",
    "| 1         | 1400                      |       49                |    1100      |     41      |     217      |      8      |\n",
    "| 0.95      | 1400                      |          42             |     1400     |      43     |     366      |      11     |\n"
   ]
  },
  {
   "cell_type": "markdown",
   "metadata": {},
   "source": [
    "Patch of 256 by 256 for 20% of the data and threshold of 0.95 gives 1900 patches with more than 1 class at level 2 by patch. Seems the best option to me. \n",
    "\n",
    "Prediction ~ 10 000 patches ( = 1900 * 5) for the whole dataset with these settings, it seems more than enough data from my perspective, and we keep working with a semantic segmentation task. "
   ]
  }
 ],
 "metadata": {
  "language_info": {
   "name": "python"
  }
 },
 "nbformat": 4,
 "nbformat_minor": 2
}
