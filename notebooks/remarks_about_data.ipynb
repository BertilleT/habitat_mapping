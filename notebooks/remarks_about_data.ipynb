{
 "cells": [
  {
   "cell_type": "markdown",
   "metadata": {},
   "source": [
    "# Remarks about the data\n",
    "\n",
    "- There are a lot of empty polygons, remove them or label them, \n",
    "- It would be nice to a column date of annotation in the shapefile. Or at least t have a bit of documentation about how to find the date, I thought the Ids you provided would be helpfull to make a jointure with the excel provided but it seemed that the shared key is actually the number of the zone. \n",
    "- A lot of polygons have TX_RECOUV to 0, sometimes it seems that is in reality it is 100 as there is one single class refrenced (CDUNIS 2 and 3 are None), and sometimes it indicates it is unknown (when CDEUNIS_2 is not None). Be carefull to set TX_RECOUV to 100 when there is only one class indicated for a polygon. But do not say there is one class, and it covers the polygon at 0%, it does not make sense. \n",
    "- Please, provide a documentation\n",
    "- There are no unique ids for the polygons from the shapefile, describe th ids you provide. What they refer to ? \n",
    "- Provide a documentation and give detail about the drone settings (to know the range of values used for the RGBI channels of the tif images)\n",
    "- some code is G1131 whereas it should be G1.131\n",
    "- Also one date is not correctly written in shapefile (it was like 0224 instead of 2024) by memory,\n",
    "- Provide a quick documentation."
   ]
  }
 ],
 "metadata": {
  "language_info": {
   "name": "python"
  }
 },
 "nbformat": 4,
 "nbformat_minor": 2
}
