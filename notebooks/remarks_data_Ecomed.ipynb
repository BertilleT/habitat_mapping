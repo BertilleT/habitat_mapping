{
 "cells": [
  {
   "cell_type": "markdown",
   "metadata": {},
   "source": [
    "# Remarks about the data\n",
    "\n",
    "- There are a lot of empty polygons, remove them or label them, \n",
    "- It would be nice to have a column date of annotation in the shapefile. Or at least to have a bit of documentation about how to find the date, I thought the Ids you provided would be helpfull to bridge the gap between the excel provided and the polygons from the shapefile but it seems that the shared key between the excel and the polygons is actually the number of the zone. \n",
    "- A lot of polygons have TX_RECOUV to 0, sometimes it seems that is in reality 100 as there is one single class referenced (CDUNIS 2 and 3 are None), and sometimes it indicates it is unknown (when CDEUNIS_2 is not None). Be carefull to set TX_RECOUV to 100 when there is only one class indicated for a polygon(if there is one single class, it does not make sense to write it covers the polygon at 0%). \n",
    "- There are no unique ids for the polygons from the shapefile, it would be nice to have one. + please describe the ids you provide, what do they refer to ? \n",
    "- Provide a documentation \n",
    "- Give detail about the drone settings (to know the range of values used for the RGBI channels of the tif images)\n",
    "- Some code is G1131 whereas it should be G1.131\n",
    "- Also one date is not correctly written in shapefile (it was like 0224 instead of 2024) by memory. \n",
    "\n"
   ]
  }
 ],
 "metadata": {
  "language_info": {
   "name": "python"
  }
 },
 "nbformat": 4,
 "nbformat_minor": 2
}
