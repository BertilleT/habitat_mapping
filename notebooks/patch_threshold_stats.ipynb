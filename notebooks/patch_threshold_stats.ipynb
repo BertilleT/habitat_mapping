{
 "cells": [
  {
   "cell_type": "markdown",
   "metadata": {},
   "source": [
    "## Information to make decisions on the design of the dataset\n",
    "\n",
    "This notebook provide useful information to answer to: \n",
    "- Which patch size to choose ? \n",
    "- Should we filter patches with unlabelled pixels ? Or should we accept patches with unlabelled pixels up to a certain threshold ? \n",
    "- Can we go on with a semantic segmentation task ?  In other words, do we have enough patches with more than 1 label class on it ? \n",
    "- Do we drop to much data if we do not take into account the patches with one single label class ? \n",
    "\n",
    "The data we talk about are filtered from (fully)unlabeled patches. \n",
    "\n",
    "The threshold indicates a percentage of annotated pixels in the mask below which we do not select the pair(img_patch, msk_patch). If it is set to 1, we keep all the pairs with masks annotated at 100%. "
   ]
  },
  {
   "cell_type": "markdown",
   "metadata": {},
   "source": [
    "### Patch of size 256\n",
    "27057 patches in total\n",
    "\n",
    "| threshold | nb kept patches | % kept patches | \n",
    "|-----------|-----------------|----------------|\n",
    "|    1      |    9468         |     35         |\n",
    "| 0.95      |    11592        |     43         |\n",
    "\n",
    "l1:\n",
    "| threshold | nb patches with 1 class   | % patches with 1 class | nb 2 classes | % 2 classes | nb 3 classes | % 3 classes | nb 4 classes | % 4 classes |\n",
    "|-----------|---------------------------|------------------------|--------------|-------------|--------------|-------------|--------------|-------------|\n",
    "| 1         |         5434              |          57            |     2978     |      31     |    908       |     10      |  141         |      1      |\n",
    "| 0.95      |         6492              |         56             |      3696    |       32    |    1199      |     10      |  195         |      2      |\n",
    "\n",
    "\n",
    "l2:\n",
    "| threshold | nb patches with 1 class   | % patches with 1 class | nb 2 classes | % 2 classes | nb 3 classes | % 3 classes | nb 4 classes | % 4 classes |\n",
    "|-----------|---------------------------|------------------------|--------------|-------------|--------------|-------------|--------------|-------------|\n",
    "| 1         | 4679                      |          49            |    3307      |     35      |     1104     |      12     |   296        |     3       |\n",
    "| 0.95      |  5611                     |           48           |        4009  |      35     |      1445    |       12    |     416      |     4       |\n"
   ]
  },
  {
   "cell_type": "markdown",
   "metadata": {},
   "source": [
    "### Patch of size 128\n",
    "\n",
    "96301 patches in total. 15 seconds to study 100 patches,  at this rythm it would take me approximately 4 hours to study all patches of 128*128.\n",
    "Random shuffle and study only 20% of it, which represents 19260 patches.\n",
    "\n",
    "| threshold | nb kept patches | % kept patches | \n",
    "|-----------|-----------------|----------------|\n",
    "|    1      |      10973      |      57        |\n",
    "|    0.95   |       12148     |      63        |\n",
    "\n",
    "l1:\n",
    "| threshold | nb patches with 1 class   | % patches with 1 class | nb 2 classes | % 2 classes | nb 3 classes | % 3 classes |nb 4 classes | % 4 classes |\n",
    "|-----------|---------------------------|------------------------|--------------|-------------|--------------|-------------|-------------|-------------|\n",
    "| 1         |           7909            |           72           |      2583    |       24    |     431      |      4      |     48      |       0     |\n",
    "| 0.95      |           8718            |           72           |      2890    |       24    |     486      |      4      |     52      |       0     |\n",
    "\n",
    "\n",
    "l2:\n",
    "| threshold | nb patches with 1 class   | % patches with 1 class | nb 2 classes | % 2 classes | nb 3 classes | % 3 classes |nb 4 classes | % 4 classes |\n",
    "|-----------|---------------------------|------------------------|--------------|-------------|--------------|-------------|-------------|-------------|\n",
    "| 1         |        7294               |         66             |   2964       |    27       |     597      |     5       |   99        |     1       |\n",
    "| 1         |        8070               |         66             |   3266       |    27       |     682      |     5       |   110       |     1       |"
   ]
  },
  {
   "cell_type": "markdown",
   "metadata": {},
   "source": [
    "### Patch of size 64\n",
    "359197 patches in total. 12 seconds to study 100 patches, at this rythm it would take me 12 hours to study all patches of 64*64.   \n",
    "So random shuffle and study only 5% of it, which represents 17959 patches. \n",
    "\n",
    "| threshold | nb kept patches | % kept patches | \n",
    "|-----------|-----------------|----------------|\n",
    "|    1      |      13279      |       74       |\n",
    "\n",
    "l1:\n",
    "| threshold | nb patches with 1 class   | % patches with 1 class | nb 2 classes | % 2 classes | nb 3 classes | % 3 classes |nb 4 classes | % 4 classes |\n",
    "|-----------|---------------------------|------------------------|--------------|-------------|--------------|-------------|-------------|-------------|\n",
    "| 1         |          11109            |          84            |    1981      |    15       |    176       |     1       |     13      |    0        |\n",
    "\n",
    "\n",
    "l2:\n",
    "| threshold | nb patches with 1 class   | % patches with 1 class | nb 2 classes | % 2 classes | nb 3 classes | % 3 classes | nb 4 classes | % 4 classes |\n",
    "|-----------|---------------------------|------------------------|--------------|-------------|--------------|-------------|--------------|-------------|\n",
    "| 1         |          10734            |        81              |     2240     |      17     |     274      |     2       |      25      |    0        |"
   ]
  },
  {
   "cell_type": "markdown",
   "metadata": {},
   "source": [
    "Patch of 256 by 256 with threshold of 1 gives ~ 4800 patches with more than 1 class at level 2 by patch. ~ 4000 patches with more than 1 class at level 1.   \n",
    "Patch of 256 by 256 with threshold of 0.95 gives ~ 5900 patches with more than 1 class at level 2 by patch. ~ 5100 patches with more than 1 class at level 1. \n",
    "\n",
    "\n",
    "20% of the patch of 128 by 128 with threshold of 1 gives ~3677 patches with more than 1 class at level 2 by patch. ~3064 patches with more than 1 class at level 1.   \n",
    "--> *5\n",
    "Estimation: all the patches of 128 by 128 with threshold of 1 gives ~18000 patches with more than 1 class at level 2 by patch. ~15000 patches with more than 1 class at level 1. \n",
    "\n",
    "\n",
    "5% of the patches of 64 by 64 with threshold of 1 gives ~2542 patches with more than 1 class at level 2 by patch. ~2170 patches with more than 1 class at level 1.   \n",
    "--> * 20\n",
    "Estimation: all the patches of 64 by 64 with threshold of 1 gives ~50000 patches with more than 1 class at level 2 by patch. ~40000 patches with more than 1 class at level 1. "
   ]
  },
  {
   "cell_type": "markdown",
   "metadata": {},
   "source": [
    "Personally I would go for semantic segmentation at level 2, with patches of 256*256, with patches that have more than 1 single class on it. It made us keep 50% of the patches labelled at 100%, and gives 4800 pairs."
   ]
  },
  {
   "cell_type": "code",
   "execution_count": null,
   "metadata": {},
   "outputs": [],
   "source": [
    "#If we stick to a semantic segmentation task at level 2, with patch of 128 by 128, we drop 66% of the 100% labaled patches, and 80% for 256 by 256.   \n",
    "#If we stick to a semantic segmentation task at level 1, with patch of 128 by 128, we drop 72% of the 100% labaled patches, and 84% for 256 by 256. "
   ]
  }
 ],
 "metadata": {
  "kernelspec": {
   "display_name": "base",
   "language": "python",
   "name": "python3"
  },
  "language_info": {
   "name": "python",
   "version": "3.8.16"
  }
 },
 "nbformat": 4,
 "nbformat_minor": 2
}
